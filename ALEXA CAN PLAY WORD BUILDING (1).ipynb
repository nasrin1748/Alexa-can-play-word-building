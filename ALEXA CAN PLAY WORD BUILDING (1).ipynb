{
 "cells": [
  {
   "cell_type": "markdown",
   "id": "062d2634",
   "metadata": {},
   "source": [
    "# CHALLENGE : INNOV8 4 KIDS CHALLENGE\n",
    "# PHASE  :          CREATION AND DEVELOPMENT PHASE\n",
    "# THEME  :          GAMIFY EDUCATION AND CARE \n",
    "# CATEGORY :    APPLICATION DEVELOPMENT"
   ]
  },
  {
   "cell_type": "markdown",
   "id": "a5d766a2",
   "metadata": {},
   "source": [
    "# objective:\n",
    "Build a mobile application game which is entertaining and boost your mind.Both adults and kids can play."
   ]
  },
  {
   "cell_type": "markdown",
   "id": "5efd20a1",
   "metadata": {},
   "source": [
    "# Implementation:\n",
    "I will be using python programming in jupyter notebook along with some pip files installed for speech recognition and Google free web speech API."
   ]
  },
  {
   "cell_type": "markdown",
   "id": "9e9ba42b",
   "metadata": {},
   "source": [
    "# Details about the App:\n",
    "This can be an add-on to the alexa/siri where you can play word building game along with alexa.The game is basically i will be telling my word and the next person will be telling my word and adding an extra word to it and the next turn will be mine.i will be telling the first two words and adding the third word.....this way the game will be continued until i go wrong with the order of words or if i forget or miss any word or tell a wrong word.The user has to start with one word and he is allowed to add only one word or else he will be loosing the game.This time we are going to play with alexa."
   ]
  },
  {
   "cell_type": "markdown",
   "id": "6556946f",
   "metadata": {},
   "source": [
    "# Applications:\n",
    "we can create levels in it and make it more tougher level wise.Kids will be able to learn new things with these levels.we can make rule in the game saying that the second word has to start with the first word ending letter to make it more tougher or the game be a combination of states and capitals where the first player will be telling the states and the second player will be telling its capital and the will be making a chain of states and capitals.This way kids can learn states and capitals.There is a toy called dancing cactus and talking tom we can also add this application as an add-on to it."
   ]
  },
  {
   "cell_type": "markdown",
   "id": "1630f38e",
   "metadata": {},
   "source": [
    "# project code:"
   ]
  },
  {
   "cell_type": "markdown",
   "id": "388ad609",
   "metadata": {},
   "source": [
    "# code to get text from the Google free web speech API."
   ]
  },
  {
   "cell_type": "code",
   "execution_count": 10,
   "id": "e55b43fc",
   "metadata": {},
   "outputs": [],
   "source": [
    "import speech_recognition as sr\n",
    "import time\n",
    "import pyttsx3\n",
    "from selenium import webdriver\n",
    "from selenium.webdriver.common.by import By\n",
    "from selenium.webdriver.support.ui import WebDriverWait\n",
    "from selenium.webdriver.support import expected_conditions as EC\n",
    "from selenium.webdriver.chrome.options import Options \n",
    "engine = pyttsx3.init()\n",
    "def speech_rec():\n",
    "        opt = Options()\n",
    "        opt.add_argument('--disable-blink-features=AutomationControlled')\n",
    "        opt.add_argument('--start-maximized')\n",
    "        opt.add_experimental_option(\"prefs\", {\n",
    "     \n",
    "            \"profile.default_content_setting_values.media_stream_mic\": 1,\n",
    "            \"profile.default_content_setting_values.media_stream_camera\": 1,\n",
    "            \"profile.default_content_setting_values.geolocation\": 0,\n",
    "            \"profile.default_content_setting_values.notifications\": 1\n",
    "        })\n",
    "        url = \"https://www.google.com/intl/en/chrome/demos/speech.html\"\n",
    "        driver = webdriver.Chrome(\"chromedriver_win32/chromedriver\",chrome_options=opt)\n",
    "        chrome_options = webdriver.ChromeOptions()\n",
    "        chrome_options.add_argument(\"--disable-popup-blocking\")\n",
    "        driver.maximize_window()\n",
    "        driver.get(url)\n",
    "        time.sleep(3)\n",
    "        mic = driver.find_element_by_id(\"start_img\").click()\n",
    "        engine.say(\"your turn........\")\n",
    "        engine.runAndWait()\n",
    "        result = driver.find_element_by_id(\"results\")\n",
    "        time.sleep(2)\n",
    "        return  result.text\n",
    "        #driver.close()"
   ]
  },
  {
   "cell_type": "code",
   "execution_count": 1,
   "id": "0ffcf11e",
   "metadata": {},
   "outputs": [],
   "source": [
    "speech_rec()"
   ]
  },
  {
   "cell_type": "code",
   "execution_count": 6,
   "id": "049617f2",
   "metadata": {},
   "outputs": [
    {
     "data": {
      "image/jpeg": "[encoded data removed]",
      "text/html": [
       "\n",
       "        <iframe\n",
       "            width=\"400\"\n",
       "            height=\"300\"\n",
       "            src=\"https://www.youtube.com/embed/_O8M9NTA1_A\"\n",
       "            frameborder=\"0\"\n",
       "            allowfullscreen\n",
       "            \n",
       "        ></iframe>\n",
       "        "
      ],
      "text/plain": [
       "<IPython.lib.display.YouTubeVideo at 0xcefe64cdf0>"
      ]
     },
     "execution_count": 6,
     "metadata": {},
     "output_type": "execute_result"
    }
   ],
   "source": [
    "from IPython.lib.display import YouTubeVideo\n",
    "YouTubeVideo('_O8M9NTA1_A')"
   ]
  },
  {
   "cell_type": "markdown",
   "id": "f40d822d",
   "metadata": {},
   "source": [
    "# code for playing the Game"
   ]
  },
  {
   "cell_type": "code",
   "execution_count": null,
   "id": "5b323c4e",
   "metadata": {},
   "outputs": [],
   "source": [
    "from random import randrange\n",
    "import pyttsx3\n",
    "import collections \n",
    "colours = [\"red\", \"yellow\", \"blue\", \"brown\", \"orange\", \"green\", \"violet\", \"black\", \"pink\"]\n",
    "import random\n",
    "engine = pyttsx3.init()\n",
    "mylist = list()\n",
    "comlist = list()\n",
    "#collections.Counter(comlist[:-1]) == collections.Counter(mylist)\n",
    "for i in range(1,50):\n",
    "    if  collections.Counter(comlist[:-1]) == collections.Counter(mylist):\n",
    "            #print(collections.Counter(comlist[:-1]) == collections.Counter(mylist))\n",
    "            for z in range(5,100,4):\n",
    "                print(z)\n",
    "                choice = speech_rec()\n",
    "                mylist = choice.split(\" \")\n",
    "                item = colours[randrange(len(colours))]\n",
    "                if  collections.Counter(mylist[:-1]) == collections.Counter(comlist) and choice!=\"\" and item[:-1]!=\"\":\n",
    "                    comlist = mylist + [item]\n",
    "                    #print(mylist)\n",
    "                    #print(comlist)\n",
    "                    engine.say(\"my turn\")\n",
    "                    engine.say(comlist)\n",
    "                    engine.runAndWait()\n",
    "                else:\n",
    "                    engine.say(\"you lose\")\n",
    "                    engine.runAndWait()\n",
    "                    break\n",
    "    else:\n",
    "        engine.say(\"you lose\")\n",
    "        engine.runAndWait()\n",
    "        break"
   ]
  },
  {
   "cell_type": "code",
   "execution_count": 10,
   "id": "1a1faeb6",
   "metadata": {},
   "outputs": [
    {
     "data": {
      "image/jpeg": "[encoded data removed]",
      "text/html": [
       "\n",
       "        <iframe\n",
       "            width=\"400\"\n",
       "            height=\"300\"\n",
       "            src=\"https://www.youtube.com/embed/GHdXi6kx2_g\"\n",
       "            frameborder=\"0\"\n",
       "            allowfullscreen\n",
       "            \n",
       "        ></iframe>\n",
       "        "
      ],
      "text/plain": [
       "<IPython.lib.display.YouTubeVideo at 0xcefe64c670>"
      ]
     },
     "execution_count": 10,
     "metadata": {},
     "output_type": "execute_result"
    }
   ],
   "source": [
    "from IPython.lib.display import YouTubeVideo\n",
    "YouTubeVideo('GHdXi6kx2_g')"
   ]
  },
  {
   "cell_type": "markdown",
   "id": "0b6fac4c",
   "metadata": {},
   "source": [
    "# code for playing the game on button click"
   ]
  },
  {
   "cell_type": "code",
   "execution_count": 1,
   "id": "119034ca",
   "metadata": {},
   "outputs": [
    {
     "data": {
      "application/vnd.jupyter.widget-view+json": {
       "model_id": "38a4d648ebe24f4d908beb9eb7a9d4a9",
       "version_major": 2,
       "version_minor": 0
      },
      "text/plain": [
       "VBox(children=(Button(description='My Button', style=ButtonStyle()), Output()))"
      ]
     },
     "metadata": {},
     "output_type": "display_data"
    }
   ],
   "source": [
    "from IPython.display import display, Markdown, clear_output\n",
    "# widget packages\n",
    "import ipywidgets as widgets\n",
    "button = widgets.Button(description='My Button')\n",
    "out = widgets.Output()\n",
    "def on_button_clicked(_):\n",
    "      # \"linking function with output\"\n",
    "      with out:\n",
    "          # what happens when we press the button\n",
    "          from random import randrange\n",
    "          import pyttsx3\n",
    "          import collections \n",
    "          colours = [\"red\", \"yellow\", \"blue\", \"brown\", \"orange\", \"green\", \"violet\", \"black\", \"pink\"]\n",
    "          import random\n",
    "          engine = pyttsx3.init()\n",
    "          mylist = list()\n",
    "          comlist = list()\n",
    "          #collections.Counter(comlist[:-1]) == collections.Counter(mylist)\n",
    "          for i in range(1,50):\n",
    "                if  collections.Counter(comlist[:-1]) == collections.Counter(mylist):\n",
    "                    #print(collections.Counter(comlist[:-1]) == collections.Counter(mylist))\n",
    "                    for z in range(5,100,2):\n",
    "                        choice = speech_rec()\n",
    "                        #print(choice)\n",
    "                        mylist = choice.split(\" \")\n",
    "                        item = colours[randrange(len(colours))]\n",
    "                        if  collections.Counter(mylist[:-1]) == collections.Counter(comlist) and choice!=\"\" and item[:-1]!=\"\":\n",
    "                            comlist = mylist + [item]\n",
    "                             #print(mylist)\n",
    "                             #print(comlist)\n",
    "                            engine.say(\"my turn\")\n",
    "                            engine.say(comlist)\n",
    "                            engine.runAndWait()\n",
    "                        else:\n",
    "                            engine.say(\"you lose\")\n",
    "                            engine.runAndWait()\n",
    "                            break\n",
    "                else:\n",
    "                    break\n",
    "# linking button and function together using a button's method\n",
    "button.on_click(on_button_clicked)\n",
    "# displaying button and its output together\n",
    "widgets.VBox([button,out])"
   ]
  },
  {
   "cell_type": "code",
   "execution_count": 8,
   "id": "02bdec52",
   "metadata": {},
   "outputs": [
    {
     "data": {
      "image/jpeg": "[encoded data removed]",
      "text/html": [
       "\n",
       "        <iframe\n",
       "            width=\"400\"\n",
       "            height=\"300\"\n",
       "            src=\"https://www.youtube.com/embed/pFsGDmx1qOs\"\n",
       "            frameborder=\"0\"\n",
       "            allowfullscreen\n",
       "            \n",
       "        ></iframe>\n",
       "        "
      ],
      "text/plain": [
       "<IPython.lib.display.YouTubeVideo at 0xcefe64cbe0>"
      ]
     },
     "execution_count": 8,
     "metadata": {},
     "output_type": "execute_result"
    }
   ],
   "source": [
    "from IPython.lib.display import YouTubeVideo\n",
    "YouTubeVideo('pFsGDmx1qOs')"
   ]
  },
  {
   "cell_type": "markdown",
   "id": "e242b630",
   "metadata": {},
   "source": [
    "# Conclusion"
   ]
  },
  {
   "cell_type": "markdown",
   "id": "00035f0b",
   "metadata": {},
   "source": [
    "Above code is only the demo version... you can say the word of your choice but the computer will choose only colours.In next version we can make the computer choose the word the will end with before word ending letter or can be some combination of states and capitals."
   ]
  }
 ],
 "metadata": {
  "kernelspec": {
   "display_name": "Python 3 (ipykernel)",
   "language": "python",
   "name": "python3"
  },
  "language_info": {
   "codemirror_mode": {
    "name": "ipython",
    "version": 3
   },
   "file_extension": ".py",
   "mimetype": "text/x-python",
   "name": "python",
   "nbconvert_exporter": "python",
   "pygments_lexer": "ipython3",
   "version": "3.9.7"
  }
 },
 "nbformat": 4,
 "nbformat_minor": 5
}
